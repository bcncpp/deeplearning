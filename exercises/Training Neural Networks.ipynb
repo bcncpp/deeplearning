{
 "cells": [
  {
   "cell_type": "markdown",
   "id": "43d9d35b",
   "metadata": {},
   "source": [
    "# Training Neural Networks\n",
    "In this exercise, you will train a neural network using PyTorch. You will be provided some starter code and will fill in the blanks. \n",
    "\n",
    "This will walk through the entire process, from loading datasets to creating transforms, all the way through to creating the network code and training it to classify the CIFAR-10 dataset."
   ]
  },
  {
   "cell_type": "code",
   "execution_count": 1,
   "id": "0494aa9c",
   "metadata": {},
   "outputs": [],
   "source": [
    "# DO NOT EDIT THIS CELL\n",
    "import torch\n",
    "from torch import nn\n",
    "from torch import optim\n",
    "import torch.nn.functional as F\n",
    "from torch.utils.data import DataLoader\n",
    "from torchvision import transforms\n",
    "from torchvision import datasets\n",
    "import matplotlib.pyplot as plt"
   ]
  },
  {
   "cell_type": "markdown",
   "id": "4f67498f",
   "metadata": {},
   "source": [
    "## Loading and Preprocessing Data\n",
    "In this section, we will load and preprocess our data using any relevant methods from `transforms` and `datasets`.\n",
    "Then, we will create `DataLoader`s for our train and test sets.\n",
    "\n",
    "If you have trouble, feel free to consult the documentation for [transforms](https://pytorch.org/vision/0.12/transforms.html) and [CIFAR-10](https://pytorch.org/vision/stable/generated/torchvision.datasets.CIFAR10.html#torchvision.datasets.CIFAR10)"
   ]
  },
  {
   "cell_type": "code",
   "execution_count": 2,
   "id": "cbe23153",
   "metadata": {},
   "outputs": [
    {
     "name": "stdout",
     "output_type": "stream",
     "text": [
      "Files already downloaded and verified\n",
      "Files already downloaded and verified\n"
     ]
    }
   ],
   "source": [
    "# Establish our transform\n",
    "transform = transforms.Compose([transforms.ToTensor(), transforms.Normalize((0.5, 0.5, 0.5), (0.5, 0.5, 0.5))])\n",
    "\n",
    "# Load train and test datasets\n",
    "training_data = datasets.CIFAR10(root=\"data\", train=True, download=True, transform=transform)\n",
    "test_data = datasets.CIFAR10(root=\"data\", train=False, download=True, transform=transform)\n",
    "\n",
    "# Create the training and test dataloaders with a batch size of 32\n",
    "train_loader = DataLoader(training_data, batch_size=32, shuffle=True)\n",
    "test_loader = DataLoader(test_data, batch_size=32)\n"
   ]
  },
  {
   "cell_type": "markdown",
   "id": "1c3ddf71",
   "metadata": {},
   "source": [
    "## Defining our Neural Network\n",
    "Once our data is loaded, we want to define our model. \n",
    "For this example, we want to use a fully-connected model, which means we will need to use the `flatten` method to take our 32 x 32 x 3 tensor and flatten it into a single input. \n",
    "\n",
    "We want to have at least 2 hidden layers. \n",
    "The input size of the first layer will need to account for the flattening and will be 32 * 32 * 3.\n",
    "Feel free to experiment here, and if you need additional help, consult the [PyTorch documentation](https://pytorch.org/docs/stable/nn.html)"
   ]
  },
  {
   "cell_type": "code",
   "execution_count": 3,
   "id": "dafd1087",
   "metadata": {},
   "outputs": [
    {
     "name": "stdout",
     "output_type": "stream",
     "text": [
      "Using cuda device\n"
     ]
    }
   ],
   "source": [
    "device = torch.device('cuda' if torch.cuda.is_available() else 'cpu')\n",
    "print(f\"Using {device} device\")"
   ]
  },
  {
   "cell_type": "code",
   "execution_count": 4,
   "id": "9e3ed652",
   "metadata": {},
   "outputs": [
    {
     "name": "stdout",
     "output_type": "stream",
     "text": [
      "Net(\n",
      "  (layer1): Linear(in_features=3072, out_features=128, bias=True)\n",
      "  (layer2): Linear(in_features=128, out_features=64, bias=True)\n",
      "  (layer3): Linear(in_features=64, out_features=10, bias=True)\n",
      ")\n"
     ]
    }
   ],
   "source": [
    "# Define the class for your neural network\n",
    "class Net(nn.Module):\n",
    "    def __init__(self):\n",
    "        super().__init__()\n",
    "        self.activation = F.relu\n",
    "        self.layer1 = nn.Linear(32 * 32 * 3, 128)\n",
    "        self.layer2 = nn.Linear(128, 64)\n",
    "        self.layer3 = nn.Linear(64, 10)\n",
    " \n",
    "    def forward(self, x):\n",
    "        x = torch.flatten(x, 1) # flatten all dimensions except batch\n",
    "        x = self.activation(self.layer1(x))\n",
    "        x = self.activation(self.layer2(x))\n",
    "        x = self.layer3(x)\n",
    "        return x\n",
    "\n",
    "# Instantiate the model\n",
    "net = Net()\n",
    "model = net.to(device)\n",
    "print(model)"
   ]
  },
  {
   "cell_type": "markdown",
   "id": "443eb547",
   "metadata": {},
   "source": [
    "## Optimizer and Loss function\n",
    "Before we get into our training loop, we need to choose an optimizer and loss function for our network. "
   ]
  },
  {
   "cell_type": "code",
   "execution_count": 5,
   "id": "0019bb91",
   "metadata": {},
   "outputs": [],
   "source": [
    "# Choose an optimizer\n",
    "optimizer = optim.Adam(net.parameters(), lr=0.001)\n",
    "# Choose a loss function\n",
    "criterion = nn.CrossEntropyLoss()"
   ]
  },
  {
   "cell_type": "markdown",
   "id": "d3090c98",
   "metadata": {},
   "source": [
    "## Creating the Training Loop\n",
    "With our network, optimizer, and loss function, we can now begin the training step! \n",
    "Using the test set to validate our accuracy, we can see when our network has given us the best fit."
   ]
  },
  {
   "cell_type": "code",
   "execution_count": 9,
   "id": "7a12770b",
   "metadata": {},
   "outputs": [
    {
     "name": "stdout",
     "output_type": "stream",
     "text": [
      "Epoch 1 training accuracy: 20.93% training loss: 0.97028\n",
      "Epoch 1 validation accuracy: 16.41% validation loss: 1.49966\n",
      "Epoch 2 training accuracy: 21.20% training loss: 0.94557\n",
      "Epoch 2 validation accuracy: 16.69% validation loss: 1.50736\n",
      "Epoch 3 training accuracy: 21.42% training loss: 0.92291\n",
      "Epoch 3 validation accuracy: 16.37% validation loss: 1.54510\n",
      "Epoch 4 training accuracy: 21.81% training loss: 0.89142\n",
      "Epoch 4 validation accuracy: 16.32% validation loss: 1.55705\n",
      "Epoch 5 training accuracy: 22.04% training loss: 0.87002\n",
      "Epoch 5 validation accuracy: 16.37% validation loss: 1.57855\n",
      "Epoch 6 training accuracy: 22.25% training loss: 0.84811\n",
      "Epoch 6 validation accuracy: 16.29% validation loss: 1.60500\n",
      "Epoch 7 training accuracy: 22.47% training loss: 0.82695\n",
      "Epoch 7 validation accuracy: 16.34% validation loss: 1.62900\n",
      "Epoch 8 training accuracy: 22.66% training loss: 0.80957\n",
      "Epoch 8 validation accuracy: 16.43% validation loss: 1.63784\n",
      "Epoch 9 training accuracy: 22.98% training loss: 0.78160\n",
      "Epoch 9 validation accuracy: 16.40% validation loss: 1.72219\n",
      "Epoch 10 training accuracy: 23.11% training loss: 0.76679\n",
      "Epoch 10 validation accuracy: 16.27% validation loss: 1.73234\n"
     ]
    }
   ],
   "source": [
    "num_epochs = 10\n",
    "# Establish a list for our history\n",
    "train_loss_history = list()\n",
    "val_loss_history = list()\n",
    "for epoch in range(num_epochs):\n",
    "    net.train()\n",
    "    train_loss = 0.0\n",
    "    train_correct = 0\n",
    "    for i, data in enumerate(train_loader):\n",
    "        # data is a list of [inputs, labels]\n",
    "        inputs, labels = data\n",
    "        # Pass to GPU if available.\n",
    "        inputs, labels = inputs.to(device), labels.to(device)\n",
    "        optimizer.zero_grad()\n",
    "        outputs = net(inputs)\n",
    "        loss = criterion(outputs, labels)\n",
    "        loss.backward()\n",
    "        optimizer.step()\n",
    "        _, preds = torch.max(outputs.data, 1)\n",
    "        train_correct += (preds == labels).sum().item()\n",
    "        train_loss += loss.item()\n",
    "    print(f'Epoch {epoch + 1} training accuracy: {train_correct/len(train_loader):.2f}% training loss: {train_loss/len(train_loader):.5f}')\n",
    "    train_loss_history.append(train_loss/len(train_loader))\n",
    "    val_loss = 0.0\n",
    "    val_correct = 0\n",
    "    net.eval()\n",
    "    for inputs, labels in test_loader:\n",
    "        inputs, labels = inputs.to(device), labels.to(device)\n",
    "\n",
    "        outputs = net(inputs)\n",
    "        loss = criterion(outputs, labels)\n",
    "\n",
    "        _, preds = torch.max(outputs.data, 1)\n",
    "        val_correct += (preds == labels).sum().item()\n",
    "        val_loss += loss.item()\n",
    "    print(f'Epoch {epoch + 1} validation accuracy: {val_correct/len(test_loader):.2f}% validation loss: {val_loss/len(test_loader):.5f}')\n",
    "    val_loss_history.append(val_loss/len(test_loader))\n"
   ]
  },
  {
   "cell_type": "code",
   "execution_count": 10,
   "id": "aaabd64c",
   "metadata": {},
   "outputs": [
    {
     "data": {
      "image/png": "[encoded data removed]",
      "text/plain": [
       "<Figure size 640x480 with 1 Axes>"
      ]
     },
     "metadata": {},
     "output_type": "display_data"
    }
   ],
   "source": [
    "# Plot the training and validation loss history\n",
    "plt.plot(train_loss_history, label=\"Training Loss\")\n",
    "plt.plot(val_loss_history, label=\"Validation Loss\")\n",
    "plt.legend()\n",
    "plt.show()"
   ]
  },
  {
   "cell_type": "code",
   "execution_count": null,
   "id": "a010d583",
   "metadata": {},
   "outputs": [],
   "source": []
  }
 ],
 "metadata": {
  "kernelspec": {
   "display_name": "Python 3 (ipykernel)",
   "language": "python",
   "name": "python3"
  },
  "language_info": {
   "codemirror_mode": {
    "name": "ipython",
    "version": 3
   },
   "file_extension": ".py",
   "mimetype": "text/x-python",
   "name": "python",
   "nbconvert_exporter": "python",
   "pygments_lexer": "ipython3",
   "version": "3.10.11"
  }
 },
 "nbformat": 4,
 "nbformat_minor": 5
}
